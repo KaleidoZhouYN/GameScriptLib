{
 "cells": [
  {
   "cell_type": "code",
   "execution_count": 1,
   "id": "48b19caa-3263-4d8f-8fff-c9d7b632b780",
   "metadata": {},
   "outputs": [
    {
     "name": "stdout",
     "output_type": "stream",
     "text": [
      "Name: opencv-pythonNote: you may need to restart the kernel to use updated packages.\n",
      "\n",
      "Version: 4.6.0.66\n",
      "Summary: Wrapper package for OpenCV python bindings.\n",
      "Home-page: https://github.com/skvark/opencv-python\n",
      "Author: \n",
      "Author-email: \n",
      "License: MIT\n",
      "Location: c:\\users\\zhouy\\appdata\\local\\programs\\python\\python310\\lib\\site-packages\n",
      "Requires: numpy, numpy, numpy, numpy\n",
      "Required-by: \n"
     ]
    }
   ],
   "source": [
    "pip show opencv-python"
   ]
  },
  {
   "cell_type": "markdown",
   "id": "16397476-6c48-4d08-98e8-c6e749efa57e",
   "metadata": {},
   "source": [
    "# load a video and save the frame into folder"
   ]
  },
  {
   "cell_type": "code",
   "execution_count": 15,
   "id": "29a6a592-e2d6-47ce-93ba-ef4418ca1b13",
   "metadata": {},
   "outputs": [
    {
     "name": "stdout",
     "output_type": "stream",
     "text": [
      "Collecting tqdm\n",
      "  Downloading tqdm-4.66.1-py3-none-any.whl (78 kB)\n",
      "     ---------------------------------------- 0.0/78.3 kB ? eta -:--:--\n",
      "     ----- ---------------------------------- 10.2/78.3 kB ? eta -:--:--\n",
      "     ----- ---------------------------------- 10.2/78.3 kB ? eta -:--:--\n",
      "     ----- ---------------------------------- 10.2/78.3 kB ? eta -:--:--\n",
      "     ----- ---------------------------------- 10.2/78.3 kB ? eta -:--:--\n",
      "     ----- ---------------------------------- 10.2/78.3 kB ? eta -:--:--\n",
      "     ------------------- ------------------ 41.0/78.3 kB 109.3 kB/s eta 0:00:01\n",
      "     ----------------------------- -------- 61.4/78.3 kB 172.4 kB/s eta 0:00:01\n",
      "     -------------------------------------- 78.3/78.3 kB 197.7 kB/s eta 0:00:00\n",
      "Requirement already satisfied: colorama in c:\\users\\zhouy\\appdata\\local\\programs\\python\\python310\\lib\\site-packages (from tqdm) (0.4.6)\n",
      "Installing collected packages: tqdm\n",
      "Successfully installed tqdm-4.66.1\n"
     ]
    },
    {
     "name": "stderr",
     "output_type": "stream",
     "text": [
      "\n",
      "[notice] A new release of pip is available: 23.0.1 -> 23.2.1\n",
      "[notice] To update, run: python.exe -m pip install --upgrade pip\n"
     ]
    }
   ],
   "source": [
    "!pip install tqdm"
   ]
  },
  {
   "cell_type": "code",
   "execution_count": 28,
   "id": "4e3e328f-e29f-4ffc-8b74-d1fe320d154c",
   "metadata": {},
   "outputs": [],
   "source": [
    "import cv2\n",
    "import os\n",
    "import shutil\n",
    "from tqdm import tqdm\n",
    "def split_video(video_path, output_folder, interval=1):\n",
    "    if not os.path.exists(output_folder):\n",
    "        os.makedirs(output_folder)\n",
    "    cap = cv2.VideoCapture(video_path)\n",
    "    if not cap.isOpened():\n",
    "        print(\"Error: Couldn't open the video file.\")\n",
    "        return \n",
    "\n",
    "    frame_count = int(cap.get(cv2.CAP_PROP_FRAME_COUNT))\n",
    "\n",
    "    for frame_num in tqdm(range(0,frame_count,interval), desc=\"Extracting frames\"):\n",
    "        # 读取下一帧\n",
    "        ret, frame = cap.read()\n",
    "\n",
    "        if not ret:\n",
    "            break\n",
    "\n",
    "        output_filename = os.path.join(output_folder, f\"frame_{frame_num:04d}.jpg\")\n",
    "        output_filename = output_filename.replace(\"\\\\\", \"\\\\\\\\\")\n",
    "        cv2.imwrite(output_filename,frame)\n",
    "\n",
    "        frame_num += 1\n",
    "\n",
    "    cap.release()\n",
    "    print(f\"Extracted {frame_num} frames and saved to {output_folder}.\")"
   ]
  },
  {
   "cell_type": "code",
   "execution_count": 29,
   "id": "4e1242d2-c207-4619-8406-99a8fb92a105",
   "metadata": {},
   "outputs": [
    {
     "name": "stderr",
     "output_type": "stream",
     "text": [
      "Extracting frames: 100%|█████████████████████████████████████████████████████████████| 223/223 [00:04<00:00, 52.81it/s]"
     ]
    },
    {
     "name": "stdout",
     "output_type": "stream",
     "text": [
      "Extracted 1111 frames and saved to C:\\Users\\zhouy\\source\\repos\\GameScriptLib\\src\\app\\epic7\\assert\\photo\\1.\n"
     ]
    },
    {
     "name": "stderr",
     "output_type": "stream",
     "text": [
      "\n"
     ]
    }
   ],
   "source": [
    "video_path = r\"C:\\Users\\zhouy\\source\\repos\\GameScriptLib\\src\\app\\epic7\\assert\\video\\【第七史诗】国服RTA1600纯后手全流程，7个英雄送的装备 - 1.面板(Av786223904,P1).mp4\"\n",
    "output_folder = r\"C:\\Users\\zhouy\\source\\repos\\GameScriptLib\\src\\app\\epic7\\assert\\photo\"\n",
    "output_folder = os.path.join(output_folder, \"1\")\n",
    "split_video(video_path,output_folder,5)"
   ]
  },
  {
   "cell_type": "code",
   "execution_count": null,
   "id": "519b980f-67c0-431d-b79f-56f025d43121",
   "metadata": {},
   "outputs": [],
   "source": []
  }
 ],
 "metadata": {
  "kernelspec": {
   "display_name": "Python 3 (ipykernel)",
   "language": "python",
   "name": "python3"
  },
  "language_info": {
   "codemirror_mode": {
    "name": "ipython",
    "version": 3
   },
   "file_extension": ".py",
   "mimetype": "text/x-python",
   "name": "python",
   "nbconvert_exporter": "python",
   "pygments_lexer": "ipython3",
   "version": "3.10.11"
  }
 },
 "nbformat": 4,
 "nbformat_minor": 5
}
