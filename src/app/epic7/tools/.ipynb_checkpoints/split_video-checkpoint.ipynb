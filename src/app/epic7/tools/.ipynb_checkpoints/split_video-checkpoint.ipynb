{
 "cells": [
  {
   "cell_type": "code",
   "execution_count": 2,
   "id": "48b19caa-3263-4d8f-8fff-c9d7b632b780",
   "metadata": {},
   "outputs": [
    {
     "name": "stdout",
     "output_type": "stream",
     "text": [
      "Name: opencv-python\n",
      "Version: 4.8.1.78\n",
      "Summary: Wrapper package for OpenCV python bindings.\n",
      "Home-page: https://github.com/opencv/opencv-python\n",
      "Author: \n",
      "Author-email: \n",
      "License: Apache 2.0\n",
      "Location: c:\\users\\zhouy\\appdata\\local\\programs\\python\\python310\\lib\\site-packages\n",
      "Requires: numpy, numpy, numpy, numpy\n",
      "Required-by: imgaug\n",
      "Note: you may need to restart the kernel to use updated packages.\n"
     ]
    }
   ],
   "source": [
    "pip show opencv-python"
   ]
  },
  {
   "cell_type": "markdown",
   "id": "16397476-6c48-4d08-98e8-c6e749efa57e",
   "metadata": {},
   "source": [
    "# load a video and save the frame into folder"
   ]
  },
  {
   "cell_type": "code",
   "execution_count": 7,
   "id": "4e3e328f-e29f-4ffc-8b74-d1fe320d154c",
   "metadata": {},
   "outputs": [],
   "source": [
    "import cv2\n",
    "import os\n",
    "import shutil\n",
    "from tqdm import tqdm\n",
    "def split_video(video_path, output_folder, interval=1, max_frame_count = None,file_sign=None):\n",
    "    if os.path.exists(output_folder):\n",
    "        shutil.rmtree(output_folder)\n",
    "    os.makedirs(output_folder)\n",
    "    cap = cv2.VideoCapture(video_path)\n",
    "    if not cap.isOpened():\n",
    "        print(\"Error: Couldn't open the video file.\")\n",
    "        return \n",
    "\n",
    "    frame_count = int(cap.get(cv2.CAP_PROP_FRAME_COUNT))\n",
    "\n",
    "    if max_frame_count is None:\n",
    "        max_frame_count = frame_count\n",
    "    else:\n",
    "        max_frame_count = max(max_frame_count, frame_count)\n",
    "    for frame_num in tqdm(range(0,frame_count), desc=\"Extracting frames\"):\n",
    "        # 读取下一帧\n",
    "        ret, frame = cap.read()\n",
    "        if frame_num % interval != 0:\n",
    "            continue\n",
    "        if not ret:\n",
    "            break\n",
    "\n",
    "        output_filename =  f\"frame_{frame_num//interval:05d}.jpg\"\n",
    "        if file_sign is not None:\n",
    "            output_filename = file_sign + '_' + output_filename\n",
    "        output_filename = os.path.join(output_folder,output_filename)\n",
    "        output_filename = output_filename.replace(\"\\\\\", \"\\\\\\\\\")\n",
    "        cv2.imwrite(output_filename,frame)\n",
    "\n",
    "    cap.release()\n",
    "    print(f\"Extracted {frame_num} frames and saved to {output_folder}.\")"
   ]
  },
  {
   "cell_type": "code",
   "execution_count": 34,
   "id": "4e1242d2-c207-4619-8406-99a8fb92a105",
   "metadata": {},
   "outputs": [
    {
     "name": "stderr",
     "output_type": "stream",
     "text": [
      "Extracting frames: 100%|██████████████████████████████████████████████████████████| 1114/1114 [00:03<00:00, 319.93it/s]"
     ]
    },
    {
     "name": "stdout",
     "output_type": "stream",
     "text": [
      "Extracted 1113 frames and saved to C:\\Users\\zhouy\\source\\repos\\GameScriptLib\\src\\app\\epic7\\assert\\photo\\1.\n"
     ]
    },
    {
     "name": "stderr",
     "output_type": "stream",
     "text": [
      "\n"
     ]
    }
   ],
   "source": [
    "video_path = r\"C:\\Users\\zhouy\\source\\repos\\GameScriptLib\\src\\app\\epic7\\assert\\video\\【第七史诗】国服RTA1600纯后手全流程，7个英雄送的装备 - 1.面板(Av786223904,P1).mp4\"\n",
    "output_folder = r\"C:\\Users\\zhouy\\source\\repos\\GameScriptLib\\src\\app\\epic7\\assert\\photo\"\n",
    "output_folder = os.path.join(output_folder, \"1\")\n",
    "split_video(video_path,output_folder,15)"
   ]
  },
  {
   "cell_type": "code",
   "execution_count": 35,
   "id": "519b980f-67c0-431d-b79f-56f025d43121",
   "metadata": {},
   "outputs": [
    {
     "name": "stderr",
     "output_type": "stream",
     "text": [
      "Extracting frames:   6%|███▌                                                     | 5253/83384 [00:15<03:48, 341.92it/s]\n"
     ]
    },
    {
     "ename": "KeyboardInterrupt",
     "evalue": "",
     "output_type": "error",
     "traceback": [
      "\u001b[1;31m---------------------------------------------------------------------------\u001b[0m",
      "\u001b[1;31mKeyboardInterrupt\u001b[0m                         Traceback (most recent call last)",
      "Cell \u001b[1;32mIn[35], line 4\u001b[0m\n\u001b[0;32m      2\u001b[0m output_folder \u001b[38;5;241m=\u001b[39m \u001b[38;5;124mr\u001b[39m\u001b[38;5;124m\"\u001b[39m\u001b[38;5;124mC:\u001b[39m\u001b[38;5;124m\\\u001b[39m\u001b[38;5;124mUsers\u001b[39m\u001b[38;5;124m\\\u001b[39m\u001b[38;5;124mzhouy\u001b[39m\u001b[38;5;124m\\\u001b[39m\u001b[38;5;124msource\u001b[39m\u001b[38;5;124m\\\u001b[39m\u001b[38;5;124mrepos\u001b[39m\u001b[38;5;124m\\\u001b[39m\u001b[38;5;124mGameScriptLib\u001b[39m\u001b[38;5;124m\\\u001b[39m\u001b[38;5;124msrc\u001b[39m\u001b[38;5;124m\\\u001b[39m\u001b[38;5;124mapp\u001b[39m\u001b[38;5;124m\\\u001b[39m\u001b[38;5;124mepic7\u001b[39m\u001b[38;5;124m\\\u001b[39m\u001b[38;5;124massert\u001b[39m\u001b[38;5;124m\\\u001b[39m\u001b[38;5;124mphoto\u001b[39m\u001b[38;5;124m\"\u001b[39m\n\u001b[0;32m      3\u001b[0m output_folder \u001b[38;5;241m=\u001b[39m os\u001b[38;5;241m.\u001b[39mpath\u001b[38;5;241m.\u001b[39mjoin(output_folder, \u001b[38;5;124m\"\u001b[39m\u001b[38;5;124m2\u001b[39m\u001b[38;5;124m\"\u001b[39m)\n\u001b[1;32m----> 4\u001b[0m \u001b[43msplit_video\u001b[49m\u001b[43m(\u001b[49m\u001b[43mvideo_path\u001b[49m\u001b[43m,\u001b[49m\u001b[43moutput_folder\u001b[49m\u001b[43m,\u001b[49m\u001b[38;5;241;43m15\u001b[39;49m\u001b[43m)\u001b[49m\n",
      "Cell \u001b[1;32mIn[33], line 18\u001b[0m, in \u001b[0;36msplit_video\u001b[1;34m(video_path, output_folder, interval)\u001b[0m\n\u001b[0;32m     14\u001b[0m frame_count \u001b[38;5;241m=\u001b[39m \u001b[38;5;28mint\u001b[39m(cap\u001b[38;5;241m.\u001b[39mget(cv2\u001b[38;5;241m.\u001b[39mCAP_PROP_FRAME_COUNT))\n\u001b[0;32m     16\u001b[0m \u001b[38;5;28;01mfor\u001b[39;00m frame_num \u001b[38;5;129;01min\u001b[39;00m tqdm(\u001b[38;5;28mrange\u001b[39m(\u001b[38;5;241m0\u001b[39m,frame_count), desc\u001b[38;5;241m=\u001b[39m\u001b[38;5;124m\"\u001b[39m\u001b[38;5;124mExtracting frames\u001b[39m\u001b[38;5;124m\"\u001b[39m):\n\u001b[0;32m     17\u001b[0m     \u001b[38;5;66;03m# 读取下一帧\u001b[39;00m\n\u001b[1;32m---> 18\u001b[0m     ret, frame \u001b[38;5;241m=\u001b[39m \u001b[43mcap\u001b[49m\u001b[38;5;241;43m.\u001b[39;49m\u001b[43mread\u001b[49m\u001b[43m(\u001b[49m\u001b[43m)\u001b[49m\n\u001b[0;32m     19\u001b[0m     \u001b[38;5;28;01mif\u001b[39;00m frame_num \u001b[38;5;241m%\u001b[39m interval \u001b[38;5;241m!=\u001b[39m \u001b[38;5;241m0\u001b[39m:\n\u001b[0;32m     20\u001b[0m         \u001b[38;5;28;01mcontinue\u001b[39;00m\n",
      "\u001b[1;31mKeyboardInterrupt\u001b[0m: "
     ]
    }
   ],
   "source": [
    "video_path = r\"C:\\Users\\zhouy\\source\\repos\\GameScriptLib\\src\\app\\epic7\\assert\\video\\【第七史诗】国服RTA1600纯后手全流程，7个英雄送的装备 - 2.轻松写意的定级赛(Av786223904,P2).mp4\"\n",
    "output_folder = r\"C:\\Users\\zhouy\\source\\repos\\GameScriptLib\\src\\app\\epic7\\assert\\photo\"\n",
    "output_folder = os.path.join(output_folder, \"2\")\n",
    "split_video(video_path,output_folder,15)"
   ]
  },
  {
   "cell_type": "code",
   "execution_count": 6,
   "id": "91236455-e566-4599-94f5-8f647ab695a1",
   "metadata": {},
   "outputs": [
    {
     "name": "stderr",
     "output_type": "stream",
     "text": [
      "Extracting frames: 100%|████████████████████████████████████████████████████████| 12077/12077 [01:07<00:00, 178.05it/s]"
     ]
    },
    {
     "name": "stdout",
     "output_type": "stream",
     "text": [
      "Extracted 12076 frames and saved to C:\\Users\\zhouy\\source\\repos\\GameScriptLib\\src\\app\\epic7\\assert\\photo\\3.\n"
     ]
    },
    {
     "name": "stderr",
     "output_type": "stream",
     "text": [
      "\n"
     ]
    }
   ],
   "source": [
    "video_path = r\"C:\\Users\\zhouy\\source\\repos\\GameScriptLib\\src\\app\\epic7\\assert\\video\\【第七史诗】自由赛季人物装备展示推荐以及卖号辣.mp4\"\n",
    "output_folder = r\"C:\\Users\\zhouy\\source\\repos\\GameScriptLib\\src\\app\\epic7\\assert\\photo\"\n",
    "output_folder = os.path.join(output_folder, \"3\")\n",
    "split_video(video_path,output_folder,6)"
   ]
  },
  {
   "cell_type": "code",
   "execution_count": 3,
   "id": "ed6f8e7e-e191-49c9-bae0-14aa405ca80f",
   "metadata": {},
   "outputs": [
    {
     "name": "stderr",
     "output_type": "stream",
     "text": [
      "Extracting frames: 100%|████████████████████████████████████████████████████████| 54797/54797 [02:18<00:00, 395.19it/s]\n"
     ]
    },
    {
     "name": "stdout",
     "output_type": "stream",
     "text": [
      "Extracted 54796 frames and saved to C:\\Users\\zhouy\\source\\repos\\GameScriptLib\\src\\app\\epic7\\resources\\photo\\RTA_283.\n"
     ]
    }
   ],
   "source": [
    "video_path = r\"C:\\Users\\zhouy\\source\\repos\\GameScriptLib\\src\\app\\epic7\\resources\\videos\\Epic Seven - In The Line Of Duty - RTA 283.mp4\"\n",
    "output_folder = r\"C:\\Users\\zhouy\\source\\repos\\GameScriptLib\\src\\app\\epic7\\resources\\photo\"\n",
    "output_folder = os.path.join(output_folder, \"RTA_283\")\n",
    "split_video(video_path,output_folder,24*3)"
   ]
  },
  {
   "cell_type": "code",
   "execution_count": 8,
   "id": "6e2a950d-d7c8-4f67-adf0-6ac429422775",
   "metadata": {},
   "outputs": [
    {
     "name": "stderr",
     "output_type": "stream",
     "text": [
      "Extracting frames: 100%|████████████████████████████████████████████████████████| 67241/67241 [02:50<00:00, 393.28it/s]"
     ]
    },
    {
     "name": "stdout",
     "output_type": "stream",
     "text": [
      "Extracted 67240 frames and saved to C:\\Users\\zhouy\\source\\repos\\GameScriptLib\\src\\app\\epic7\\resources\\photo\\RTA_278.\n"
     ]
    },
    {
     "name": "stderr",
     "output_type": "stream",
     "text": [
      "\n"
     ]
    }
   ],
   "source": [
    "video_path = r\"C:\\Users\\zhouy\\source\\repos\\GameScriptLib\\src\\app\\epic7\\resources\\videos\\Epic Seven - Everybody Was Kung Fu Fighting! - RTA 278.mp4\"\n",
    "output_folder = r\"C:\\Users\\zhouy\\source\\repos\\GameScriptLib\\src\\app\\epic7\\resources\\photo\"\n",
    "output_folder = os.path.join(output_folder, \"RTA_278\")\n",
    "split_video(video_path,output_folder,24*3,None,\"RTA_278\")"
   ]
  },
  {
   "cell_type": "code",
   "execution_count": 9,
   "id": "3e6851fc-7f61-4493-9946-07693a4246c5",
   "metadata": {},
   "outputs": [
    {
     "name": "stderr",
     "output_type": "stream",
     "text": [
      "Extracting frames: 100%|████████████████████████████████████████████████████████| 51905/51905 [02:03<00:00, 421.15it/s]"
     ]
    },
    {
     "name": "stdout",
     "output_type": "stream",
     "text": [
      "Extracted 51904 frames and saved to C:\\Users\\zhouy\\source\\repos\\GameScriptLib\\src\\app\\epic7\\resources\\photo\\RTA_267.\n"
     ]
    },
    {
     "name": "stderr",
     "output_type": "stream",
     "text": [
      "\n"
     ]
    }
   ],
   "source": [
    "video_path = r\"C:\\Users\\zhouy\\source\\repos\\GameScriptLib\\src\\app\\epic7\\resources\\videos\\Epic Seven - Better Stronger Faster - RTA 267.mp4\"\n",
    "output_folder = r\"C:\\Users\\zhouy\\source\\repos\\GameScriptLib\\src\\app\\epic7\\resources\\photo\"\n",
    "output_folder = os.path.join(output_folder, \"RTA_267\")\n",
    "split_video(video_path,output_folder,24*3,None,\"RTA_267\")"
   ]
  },
  {
   "cell_type": "code",
   "execution_count": null,
   "id": "ae437676-0fc6-40de-a21a-52bde213f3ac",
   "metadata": {},
   "outputs": [],
   "source": [
    "video_path = r\"C:\\Users\\zhouy\\source\\repos\\GameScriptLib\\src\\app\\epic7\\resources\\videos\\Epic Seven - Knights Of The Round Table - RTA 268.mp4\"\n",
    "output_folder = r\"C:\\Users\\zhouy\\source\\repos\\GameScriptLib\\src\\app\\epic7\\resources\\photo\"\n",
    "output_folder = os.path.join(output_folder, \"RTA_268\")\n",
    "split_video(video_path,output_folder,24*3,None,\"RTA_268\")"
   ]
  }
 ],
 "metadata": {
  "kernelspec": {
   "display_name": "Python 3 (ipykernel)",
   "language": "python",
   "name": "python3"
  },
  "language_info": {
   "codemirror_mode": {
    "name": "ipython",
    "version": 3
   },
   "file_extension": ".py",
   "mimetype": "text/x-python",
   "name": "python",
   "nbconvert_exporter": "python",
   "pygments_lexer": "ipython3",
   "version": "3.10.11"
  }
 },
 "nbformat": 4,
 "nbformat_minor": 5
}
