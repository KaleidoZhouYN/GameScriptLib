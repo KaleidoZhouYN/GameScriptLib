{
 "cells": [
  {
   "cell_type": "markdown",
   "id": "0d840cb4-5af8-475a-ac92-8362f180bef2",
   "metadata": {},
   "source": [
    "# train epic seven hero avator recognition network"
   ]
  },
  {
   "cell_type": "markdown",
   "id": "1585f3a0-2fa2-4d5d-9037-e5866d3faf6b",
   "metadata": {},
   "source": [
    "## define network"
   ]
  },
  {
   "cell_type": "code",
   "execution_count": 143,
   "id": "657825d8-a87c-4d67-94cf-fc8ab3d418d5",
   "metadata": {},
   "outputs": [],
   "source": [
    "import torch\n",
    "import torch.nn as nn\n",
    "class Net(nn.Module):\n",
    "    def __init__(self, class_num):\n",
    "        super().__init__()\n",
    "        self.conv1 = nn.Conv2d(3,8,3,2,1)\n",
    "        self.conv2 = nn.Conv2d(8,16,3,2,1)\n",
    "        self.conv3 = nn.Conv2d(16,32,3,2,1)\n",
    "        self.fc = nn.AdaptiveAvgPool2d((1,1))\n",
    "        self.cls = nn.Linear(32,class_num)\n",
    "\n",
    "    def forward(self,x):\n",
    "        x = self.conv1(x)\n",
    "        x = self.conv2(x)\n",
    "        x = self.conv3(x)\n",
    "        x = self.fc(x)\n",
    "        cls = self.cls(x.reshape(x.shape[0],-1))\n",
    "        return cls\n",
    "\n",
    "criterion = nn.CrossEntropyLoss()\n",
    "    "
   ]
  },
  {
   "cell_type": "markdown",
   "id": "9a7d173d-3260-4791-ba71-eea58a8254f0",
   "metadata": {},
   "source": [
    "## test network"
   ]
  },
  {
   "cell_type": "code",
   "execution_count": 40,
   "id": "3111bcab-c562-4202-acb7-c2e158b3bac7",
   "metadata": {},
   "outputs": [
    {
     "name": "stdout",
     "output_type": "stream",
     "text": [
      "torch.Size([1, 100])\n",
      "tensor(4.3894, grad_fn=<NllLossBackward0>)\n"
     ]
    }
   ],
   "source": [
    "net = Net(100)\n",
    "x = torch.randn(1,3,90,140)\n",
    "net.eval()\n",
    "o = net(x)\n",
    "print(o.shape)\n",
    "l = criterion(o, torch.tensor([0]).long())\n",
    "print(l)"
   ]
  },
  {
   "cell_type": "markdown",
   "id": "b3f187e2-32dd-41b1-9dac-a6defe7752f6",
   "metadata": {},
   "source": [
    "## define dataset "
   ]
  },
  {
   "cell_type": "code",
   "execution_count": 6,
   "id": "4f86ea3e-b13b-4565-8650-ad2bc115a339",
   "metadata": {},
   "outputs": [],
   "source": [
    "import random\n",
    "import numpy as np\n",
    "import imgaug.augmenters as iaa\n",
    "import torchvision\n",
    "\n",
    "cut = iaa.Cutout(nb_iterations=1,size=0.1,squared=False)\n",
    "flip = iaa.Fliplr(0.5)\n",
    "ty = iaa.TranslateY(px=(-10, 10))\n",
    "\n",
    "aug = iaa.Sequential([\n",
    "    flip,\n",
    "    iaa.Sometimes(0.5,cut),\n",
    "    iaa.Sometimes(0.5,ty)\n",
    "])"
   ]
  },
  {
   "cell_type": "code",
   "execution_count": 4,
   "id": "ff0ab781-2269-4a1b-a301-d64973b3ee4e",
   "metadata": {},
   "outputs": [],
   "source": [
    "import os\n",
    "import cv2\n",
    "\n",
    "def imread_chinese_path(chinese_path):\n",
    "    # 使用Python的open读取图片\n",
    "    with open(chinese_path, 'rb') as fp:\n",
    "        bytes_io = fp.read()\n",
    "    image_np = np.frombuffer(bytes_io, np.uint8)\n",
    "    image = cv2.imdecode(image_np, cv2.IMREAD_COLOR)\n",
    "    return image\n",
    "    \n",
    "class MyDataset():\n",
    "    def __init__(self, folder):\n",
    "        self.folder = folder\n",
    "        self.num = len(os.listdir(folder))\n",
    "        self.filenames = os.listdir(folder)\n",
    "        self.map_name2id = {}\n",
    "        self.map_id2name = []\n",
    "        cnt = 0\n",
    "        for filename in self.filenames:\n",
    "            id = filename.split('.')[0].split('_')[0].split(' ')[0]\n",
    "            if id not in self.map_name2id:\n",
    "                self.map_name2id[id] = cnt\n",
    "                self.map_id2name.append(id)\n",
    "                cnt += 1\n",
    "\n",
    "        self.transform = aug\n",
    "\n",
    "    def __len__(self):\n",
    "        return self.num\n",
    "\n",
    "    def __getitem__(self, index):\n",
    "        filename = self.filenames[index]\n",
    "        id = filename.split('.')[0].split('_')[0].split(' ')[0]\n",
    "        path = os.path.join(self.folder, filename)\n",
    "        img = imread_chinese_path(path)\n",
    "        img = cv2.resize(img, (64,48))\n",
    "        img = self.transform(image=img)\n",
    "        img = torchvision.transforms.ToTensor()(img)\n",
    "        label = self.map_name2id[id]\n",
    "        return img, label"
   ]
  },
  {
   "cell_type": "markdown",
   "id": "5fbef353-28e7-4161-8b7f-5839f2da8c9f",
   "metadata": {},
   "source": [
    "### test dataset"
   ]
  },
  {
   "cell_type": "code",
   "execution_count": 165,
   "id": "e8bc1935-ba5c-4e68-9ca2-908cf9b4cfe6",
   "metadata": {},
   "outputs": [],
   "source": [
    "folder = r\"C:\\Users\\zhouy\\source\\repos\\GameScriptLib\\src\\app\\epic7\\assert\\photo\\3\\avatar\"\n",
    "dataset = MyDataset(folder)"
   ]
  },
  {
   "cell_type": "code",
   "execution_count": 166,
   "id": "2c81cd78-8c7c-46f7-91ae-b237cb1ab9f2",
   "metadata": {},
   "outputs": [
    {
     "data": {
      "text/plain": [
       "<matplotlib.image.AxesImage at 0x28a4a5dfd30>"
      ]
     },
     "execution_count": 166,
     "metadata": {},
     "output_type": "execute_result"
    },
    {
     "data": {
      "image/png": "[encoded data removed]",
      "text/plain": [
       "<Figure size 640x480 with 1 Axes>"
      ]
     },
     "metadata": {},
     "output_type": "display_data"
    }
   ],
   "source": [
    "from matplotlib import pyplot as plt\n",
    "import numpy as np\n",
    "img, label = dataset[16]\n",
    "img = (img.numpy().transpose((1,2,0))*255).astype(np.uint8)\n",
    "plt.imshow(img[:,:,::-1])"
   ]
  },
  {
   "cell_type": "code",
   "execution_count": 101,
   "id": "f658325a-0d2e-479b-972f-68d526e46cca",
   "metadata": {},
   "outputs": [
    {
     "data": {
      "text/plain": [
       "'光水奶'"
      ]
     },
     "execution_count": 101,
     "metadata": {},
     "output_type": "execute_result"
    }
   ],
   "source": [
    "dataset.map_id2name[label]"
   ]
  },
  {
   "cell_type": "markdown",
   "id": "6ca1a23c-e7ff-4c9b-a3db-d53379ec076c",
   "metadata": {},
   "source": [
    "## 训练网络"
   ]
  },
  {
   "cell_type": "code",
   "execution_count": 105,
   "id": "651248c9-ca78-4ad0-b55f-d2c1534111b0",
   "metadata": {},
   "outputs": [
    {
     "data": {
      "text/plain": [
       "True"
      ]
     },
     "execution_count": 105,
     "metadata": {},
     "output_type": "execute_result"
    }
   ],
   "source": [
    "torch.cuda.is_available()"
   ]
  },
  {
   "cell_type": "code",
   "execution_count": 106,
   "id": "9e8c6abc-8ede-4297-ba8c-d2186b2c61cb",
   "metadata": {},
   "outputs": [],
   "source": [
    "torch.cuda.set_device(0)"
   ]
  },
  {
   "cell_type": "code",
   "execution_count": 167,
   "id": "b10987f9-c208-407a-ae79-5bb31afd24eb",
   "metadata": {},
   "outputs": [],
   "source": [
    "from torch.utils.data import DataLoader as DataLoader\n",
    "loader = DataLoader(dataset, batch_size = 16, shuffle=True)"
   ]
  },
  {
   "cell_type": "code",
   "execution_count": 168,
   "id": "f6443fbd-f098-432f-9634-28c235ed93d4",
   "metadata": {},
   "outputs": [
    {
     "data": {
      "text/plain": [
       "Net(\n",
       "  (conv1): Conv2d(3, 8, kernel_size=(3, 3), stride=(2, 2), padding=(1, 1))\n",
       "  (conv2): Conv2d(8, 16, kernel_size=(3, 3), stride=(2, 2), padding=(1, 1))\n",
       "  (conv3): Conv2d(16, 32, kernel_size=(3, 3), stride=(2, 2), padding=(1, 1))\n",
       "  (fc): AdaptiveAvgPool2d(output_size=(1, 1))\n",
       "  (cls): Linear(in_features=32, out_features=125, bias=True)\n",
       ")"
      ]
     },
     "execution_count": 168,
     "metadata": {},
     "output_type": "execute_result"
    }
   ],
   "source": [
    "net = Net(class_num=len(dataset.map_id2name))\n",
    "net.cuda()\n",
    "net.train()"
   ]
  },
  {
   "cell_type": "code",
   "execution_count": 169,
   "id": "4bfe746b-3b7a-410e-a56f-f156aeb48509",
   "metadata": {},
   "outputs": [],
   "source": [
    "from torcheval.metrics import MulticlassAccuracy\n",
    "metric = MulticlassAccuracy(device=\"cuda\")"
   ]
  },
  {
   "cell_type": "code",
   "execution_count": 152,
   "id": "936613f1-220a-419e-bb89-da9bba6af4df",
   "metadata": {},
   "outputs": [],
   "source": [
    "## test network inference"
   ]
  },
  {
   "cell_type": "code",
   "execution_count": 173,
   "id": "4e09455e-b0cd-4d7c-9953-ef7e91fe92d0",
   "metadata": {},
   "outputs": [],
   "source": [
    "net.eval()\n",
    "img = imread_chinese_path(r\"C:\\Users\\zhouy\\source\\repos\\GameScriptLib\\src\\app\\epic7\\assert\\photo\\3\\avatar\\木龙.jpg\")\n",
    "input = torchvision.transforms.ToTensor()(img)\n",
    "input = input.unsqueeze(0).cuda()\n",
    "out = net(input)"
   ]
  },
  {
   "cell_type": "code",
   "execution_count": 174,
   "id": "5286d11e-6200-4381-a8d0-f62f36bd0b11",
   "metadata": {},
   "outputs": [
    {
     "data": {
      "text/plain": [
       "'木龙'"
      ]
     },
     "execution_count": 174,
     "metadata": {},
     "output_type": "execute_result"
    }
   ],
   "source": [
    "dataset.map_id2name[out[0].argmax().item()]"
   ]
  },
  {
   "cell_type": "code",
   "execution_count": null,
   "id": "a2fba449-1d0d-4706-b9e1-d410b17cd24f",
   "metadata": {},
   "outputs": [],
   "source": []
  },
  {
   "cell_type": "markdown",
   "id": "ae939609-ea00-4ea0-b412-caf34a6d9431",
   "metadata": {},
   "source": [
    "## pytorch model to onnx"
   ]
  },
  {
   "cell_type": "code",
   "execution_count": 176,
   "id": "28701acc-2d79-4df0-b1a4-f07904c36a8b",
   "metadata": {},
   "outputs": [
    {
     "name": "stdout",
     "output_type": "stream",
     "text": [
      "============= Diagnostic Run torch.onnx.export version 2.0.1+cu118 =============\n",
      "verbose: False, log level: Level.ERROR\n",
      "======================= 0 NONE 0 NOTE 0 WARNING 0 ERROR ========================\n",
      "\n"
     ]
    }
   ],
   "source": [
    "dummy_input = torch.randn(1, 3, 48, 64)\n",
    "\n",
    "# 4. 使用torch.onnx.export()函数转换模型\n",
    "torch.onnx.export(net.cpu(), dummy_input, \"hero_avatar.onnx\")"
   ]
  },
  {
   "cell_type": "markdown",
   "id": "f3e9337f-979a-4622-b4cc-e59b3ea790fe",
   "metadata": {},
   "source": [
    "### onnx inference"
   ]
  },
  {
   "cell_type": "code",
   "execution_count": 178,
   "id": "3e672625-fcd3-438d-ab96-51a2acd757cf",
   "metadata": {},
   "outputs": [
    {
     "name": "stdout",
     "output_type": "stream",
     "text": [
      "Requirement already satisfied: onnxruntime in c:\\users\\zhouy\\appdata\\local\\programs\\python\\python310\\lib\\site-packages (1.13.1)\n",
      "Requirement already satisfied: coloredlogs in c:\\users\\zhouy\\appdata\\local\\programs\\python\\python310\\lib\\site-packages (from onnxruntime) (15.0.1)\n",
      "Requirement already satisfied: packaging in c:\\users\\zhouy\\appdata\\local\\programs\\python\\python310\\lib\\site-packages (from onnxruntime) (21.3)\n",
      "Requirement already satisfied: flatbuffers in c:\\users\\zhouy\\appdata\\local\\programs\\python\\python310\\lib\\site-packages (from onnxruntime) (22.11.23)\n",
      "Requirement already satisfied: sympy in c:\\users\\zhouy\\appdata\\local\\programs\\python\\python310\\lib\\site-packages (from onnxruntime) (1.11.1)\n",
      "Requirement already satisfied: protobuf in c:\\users\\zhouy\\appdata\\local\\programs\\python\\python310\\lib\\site-packages (from onnxruntime) (4.21.10)\n",
      "Requirement already satisfied: numpy>=1.21.6 in c:\\users\\zhouy\\appdata\\local\\programs\\python\\python310\\lib\\site-packages (from onnxruntime) (1.23.5)\n",
      "Requirement already satisfied: humanfriendly>=9.1 in c:\\users\\zhouy\\appdata\\local\\programs\\python\\python310\\lib\\site-packages (from coloredlogs->onnxruntime) (10.0)\n",
      "Requirement already satisfied: pyparsing!=3.0.5,>=2.0.2 in c:\\users\\zhouy\\appdata\\local\\programs\\python\\python310\\lib\\site-packages (from packaging->onnxruntime) (3.0.9)\n",
      "Requirement already satisfied: mpmath>=0.19 in c:\\users\\zhouy\\appdata\\local\\programs\\python\\python310\\lib\\site-packages (from sympy->onnxruntime) (1.2.1)\n",
      "Requirement already satisfied: pyreadline3 in c:\\users\\zhouy\\appdata\\local\\programs\\python\\python310\\lib\\site-packages (from humanfriendly>=9.1->coloredlogs->onnxruntime) (3.4.1)\n"
     ]
    },
    {
     "name": "stderr",
     "output_type": "stream",
     "text": [
      "\n",
      "[notice] A new release of pip is available: 23.0.1 -> 23.2.1\n",
      "[notice] To update, run: python.exe -m pip install --upgrade pip\n"
     ]
    }
   ],
   "source": [
    "!pip install onnxruntime"
   ]
  },
  {
   "cell_type": "code",
   "execution_count": 1,
   "id": "b487aa57-e179-4dae-a69a-c27e584523a9",
   "metadata": {},
   "outputs": [],
   "source": [
    "import numpy as np\n",
    "import onnxruntime as ort\n",
    "import torch\n",
    "import torchvision.transforms as transforms"
   ]
  },
  {
   "cell_type": "code",
   "execution_count": 7,
   "id": "6c2c096d-f90f-44f6-8a6f-104c9608cfea",
   "metadata": {},
   "outputs": [],
   "source": [
    "img = imread_chinese_path(r\"C:\\Users\\zhouy\\source\\repos\\GameScriptLib\\src\\app\\epic7\\assert\\photo\\3\\avatar\\木龙.jpg\")\n",
    "img = cv2.resize(img, (64,48))\n",
    "input = torchvision.transforms.ToTensor()(img)\n",
    "input = input.unsqueeze(0).numpy()"
   ]
  },
  {
   "cell_type": "code",
   "execution_count": 8,
   "id": "8401fd89-9bbc-4c38-976d-ac31134f717b",
   "metadata": {},
   "outputs": [],
   "source": [
    "sess = ort.InferenceSession(\"hero_avatar.onnx\")"
   ]
  },
  {
   "cell_type": "code",
   "execution_count": 9,
   "id": "21ee6881-bdef-4dea-b78e-7ee32010a38d",
   "metadata": {},
   "outputs": [],
   "source": [
    "inputs = {sess.get_inputs()[0].name: input}\n",
    "outputs = sess.run(None, inputs)\n",
    "predicted_class = np.argmax(outputs[0], axis=1)"
   ]
  },
  {
   "cell_type": "code",
   "execution_count": 18,
   "id": "4e252dcc-ecd2-49be-8367-cd38335f45a0",
   "metadata": {},
   "outputs": [
    {
     "data": {
      "text/plain": [
       "79"
      ]
     },
     "execution_count": 18,
     "metadata": {},
     "output_type": "execute_result"
    }
   ],
   "source": [
    "predicted_class.item()"
   ]
  },
  {
   "cell_type": "code",
   "execution_count": 17,
   "id": "954703da-dc1d-4d9f-99b1-017bebefcaf1",
   "metadata": {},
   "outputs": [
    {
     "data": {
      "text/plain": [
       "'input.1'"
      ]
     },
     "execution_count": 17,
     "metadata": {},
     "output_type": "execute_result"
    }
   ],
   "source": [
    "sess.get_inputs()[0].name"
   ]
  },
  {
   "cell_type": "code",
   "execution_count": null,
   "id": "9d15896a-1b8a-492e-a53d-9b1639a4bbd1",
   "metadata": {},
   "outputs": [],
   "source": []
  }
 ],
 "metadata": {
  "kernelspec": {
   "display_name": "Python 3 (ipykernel)",
   "language": "python",
   "name": "python3"
  },
  "language_info": {
   "codemirror_mode": {
    "name": "ipython",
    "version": 3
   },
   "file_extension": ".py",
   "mimetype": "text/x-python",
   "name": "python",
   "nbconvert_exporter": "python",
   "pygments_lexer": "ipython3",
   "version": "3.10.11"
  }
 },
 "nbformat": 4,
 "nbformat_minor": 5
}
